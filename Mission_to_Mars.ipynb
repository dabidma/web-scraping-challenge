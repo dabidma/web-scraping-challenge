{
 "cells": [
  {
   "cell_type": "code",
   "execution_count": 1,
   "id": "22d3c0d1-bc1b-4e39-9410-88fa728be3ea",
   "metadata": {},
   "outputs": [],
   "source": [
    "import pandas as pd\n",
    "import requests\n",
    "from bs4 import BeautifulSoup as bs\n",
    "import pymongo\n",
    "from webdriver_manager.chrome import ChromeDriverManager\n",
    "from splinter import Browser"
   ]
  },
  {
   "cell_type": "markdown",
   "id": "bc31d730-9227-4071-bb21-a257343c505a",
   "metadata": {},
   "source": [
    "# Scraping"
   ]
  },
  {
   "cell_type": "markdown",
   "id": "fb584ba6-7cbe-46cb-a42e-01810e96dbe9",
   "metadata": {},
   "source": [
    "### Nasa News Scraping"
   ]
  },
  {
   "cell_type": "code",
   "execution_count": 2,
   "id": "a2109356-7e47-4327-aec7-80695e09606a",
   "metadata": {},
   "outputs": [],
   "source": [
    "#create browser\n",
    "executable_path = {'executable_path': ChromeDriverManager().install()}\n",
    "browser = Browser('chrome', **executable_path, headless=False)\n",
    "\n",
    "#visit the browser\n",
    "url = 'https://redplanetscience.com/'\n",
    "browser.visit(url)\n",
    "\n",
    "#html parsing for bs\n",
    "html = browser.html\n",
    "soup = bs(html, 'html.parser')\n",
    "\n",
    "#get all results for each row\n",
    "result = soup.find_all('div', class_='row')\n",
    "\n",
    "#always search for 0 to grab the first one, could do just .find as well\n",
    "title = result[0].find('div', class_='content_title').text\n",
    "paragraph = result[0].find('div', class_='article_teaser_body').text\n"
   ]
  },
  {
   "cell_type": "markdown",
   "id": "1a8240c0-c2ca-427b-818c-efae4bd06f6d",
   "metadata": {},
   "source": [
    "### Image Scrape"
   ]
  },
  {
   "cell_type": "code",
   "execution_count": 3,
   "id": "38f911ce-8880-4376-bc10-4ee47f4fb878",
   "metadata": {},
   "outputs": [],
   "source": [
    "img_url = 'https://spaceimages-mars.com/'\n",
    "browser.visit(img_url)\n",
    "\n",
    "#parse html\n",
    "html = browser.html\n",
    "soup = bs(html, 'html.parser')\n",
    "\n",
    "image_url = soup.find('a',class_='showimg fancybox-thumbs')\n",
    "featured_image_url = img_url + image_url.get('href')\n",
    "#featured_image_url"
   ]
  },
  {
   "cell_type": "markdown",
   "id": "48b5f9f4-677f-4613-9cb3-a46eaed6c08e",
   "metadata": {},
   "source": [
    "### Mars Facts"
   ]
  },
  {
   "cell_type": "code",
   "execution_count": 12,
   "id": "4c9dd8d7-01bd-4595-9b71-ac4925828a2e",
   "metadata": {},
   "outputs": [
    {
     "data": {
      "text/plain": [
       "'<table border=\"1\" class=\"dataframe\">\\n  <tbody>\\n    <tr>\\n      <td>Mars</td>\\n      <td>Earth</td>\\n    </tr>\\n    <tr>\\n      <td>6,779 km</td>\\n      <td>12,742 km</td>\\n    </tr>\\n    <tr>\\n      <td>6.39 × 10^23 kg</td>\\n      <td>5.97 × 10^24 kg</td>\\n    </tr>\\n    <tr>\\n      <td>2</td>\\n      <td>1</td>\\n    </tr>\\n    <tr>\\n      <td>227,943,824 km</td>\\n      <td>149,598,262 km</td>\\n    </tr>\\n    <tr>\\n      <td>687 Earth days</td>\\n      <td>365.24 days</td>\\n    </tr>\\n    <tr>\\n      <td>-87 to -5 °C</td>\\n      <td>-88 to 58°C</td>\\n    </tr>\\n  </tbody>\\n</table>'"
      ]
     },
     "execution_count": 12,
     "metadata": {},
     "output_type": "execute_result"
    }
   ],
   "source": [
    "mars_url = 'https://galaxyfacts-mars.com/'\n",
    "browser.visit(mars_url)\n",
    "\n",
    "html = browser.html\n",
    "soup = bs(html, 'html.parser')\n",
    "\n",
    "table = pd.read_html(mars_url)\n",
    "mars_earth_df = table[0]\n",
    "mars_earth_df.rename(columns={0:'Description',1:'Mars',2:'Earth'},inplace=True)\n",
    "mars_earth_df.set_index('Description',inplace=True)\n",
    "mars_earth_df.to_html(header=False,index=False)"
   ]
  },
  {
   "cell_type": "markdown",
   "id": "6d62a698-1697-4685-8776-4e8031cd9957",
   "metadata": {},
   "source": [
    "### Mars Hemispheres"
   ]
  },
  {
   "cell_type": "code",
   "execution_count": 28,
   "id": "e815708e-f140-42a4-af10-976ae1e5e2f8",
   "metadata": {},
   "outputs": [
    {
     "name": "stdout",
     "output_type": "stream",
     "text": [
      "https://marshemispheres.com/images/full.jpg\n",
      "https://marshemispheres.com/images/schiaparelli_enhanced-full.jpg\n",
      "https://marshemispheres.com/images/syrtis_major_enhanced-full.jpg\n",
      "https://marshemispheres.com/images/valles_marineris_enhanced-full.jpg\n"
     ]
    }
   ],
   "source": [
    "mars_hem_url = 'https://marshemispheres.com/'\n",
    "browser.visit(mars_hem_url)\n",
    "\n",
    "html = browser.html\n",
    "soup = bs(html, 'html.parser')\n",
    "\n",
    "results = soup.find_all('div',class_='item')\n",
    "\n",
    "hemisphere_image_urls = []\n",
    "\n",
    "for result in results:\n",
    "    result_dict = {}\n",
    "    title = result.find('h3').text\n",
    "    href_link = result.find('a')['href']\n",
    "    img_link = mars_hem_url + href_link\n",
    "    \n",
    "    browser.visit(img_link)\n",
    "    \n",
    "    html = browser.html\n",
    "    soup = bs(html, 'html.parser')\n",
    "    \n",
    "    download_block = soup.find('div',class_='downloads')\n",
    "    img_url = mars_hem_url + download_block.find('a')['href']\n",
    "    #print(img_url)\n",
    "    #put into dict and then append to list\n",
    "    result_dict['title'] = title\n",
    "    result_dict['img_url'] = img_url\n",
    "    hemisphere_image_urls.append(result_dict)"
   ]
  },
  {
   "cell_type": "code",
   "execution_count": 30,
   "id": "0758694b-c65a-4589-9be6-2ba86dc1b121",
   "metadata": {},
   "outputs": [],
   "source": [
    "browser.quit()"
   ]
  },
  {
   "cell_type": "code",
   "execution_count": null,
   "id": "711074d1-d49a-4350-a1b9-f78273e28ab2",
   "metadata": {},
   "outputs": [],
   "source": []
  }
 ],
 "metadata": {
  "kernelspec": {
   "display_name": "Python 3 (ipykernel)",
   "language": "python",
   "name": "python3"
  },
  "language_info": {
   "codemirror_mode": {
    "name": "ipython",
    "version": 3
   },
   "file_extension": ".py",
   "mimetype": "text/x-python",
   "name": "python",
   "nbconvert_exporter": "python",
   "pygments_lexer": "ipython3",
   "version": "3.10.6"
  }
 },
 "nbformat": 4,
 "nbformat_minor": 5
}
