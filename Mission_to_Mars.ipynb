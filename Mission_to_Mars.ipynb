{
 "cells": [
  {
   "cell_type": "code",
   "execution_count": 6,
   "id": "22d3c0d1-bc1b-4e39-9410-88fa728be3ea",
   "metadata": {},
   "outputs": [],
   "source": [
    "import pandas as pd\n",
    "import requests\n",
    "from bs4 import BeautifulSoup as bs\n",
    "import pymongo\n",
    "from webdriver_manager.chrome import ChromeDriverManager"
   ]
  },
  {
   "cell_type": "markdown",
   "id": "bc31d730-9227-4071-bb21-a257343c505a",
   "metadata": {},
   "source": [
    "# Scraping"
   ]
  },
  {
   "cell_type": "markdown",
   "id": "fb584ba6-7cbe-46cb-a42e-01810e96dbe9",
   "metadata": {},
   "source": [
    "### Nasa News Scraping"
   ]
  },
  {
   "cell_type": "code",
   "execution_count": 16,
   "id": "a2109356-7e47-4327-aec7-80695e09606a",
   "metadata": {},
   "outputs": [],
   "source": [
    "#create browser\n",
    "executable_path = {'executable_path': ChromeDriverManager().install()}\n",
    "browser = Browser('chrome', **executable_path, headless=False)\n",
    "\n",
    "#visit the browser\n",
    "url = 'https://redplanetscience.com/'\n",
    "browser.visit(url)\n",
    "\n",
    "#html parsing for bs\n",
    "html = browser.html\n",
    "soup = bs(html, 'html.parser')\n",
    "\n",
    "#get all results for each row\n",
    "result = soup.find_all('div', class_='row')\n",
    "\n",
    "#always search for 0 to grab the first one, could do just .find as well\n",
    "title = result[0].find('div', class_='content_title').text\n",
    "paragraph = result[0].find('div', class_='article_teaser_body').text\n",
    "browser.quit()"
   ]
  },
  {
   "cell_type": "markdown",
   "id": "1a8240c0-c2ca-427b-818c-efae4bd06f6d",
   "metadata": {},
   "source": [
    "### Image Scrape"
   ]
  },
  {
   "cell_type": "code",
   "execution_count": null,
   "id": "38f911ce-8880-4376-bc10-4ee47f4fb878",
   "metadata": {},
   "outputs": [],
   "source": []
  }
 ],
 "metadata": {
  "kernelspec": {
   "display_name": "Python 3 (ipykernel)",
   "language": "python",
   "name": "python3"
  },
  "language_info": {
   "codemirror_mode": {
    "name": "ipython",
    "version": 3
   },
   "file_extension": ".py",
   "mimetype": "text/x-python",
   "name": "python",
   "nbconvert_exporter": "python",
   "pygments_lexer": "ipython3",
   "version": "3.10.6"
  }
 },
 "nbformat": 4,
 "nbformat_minor": 5
}
